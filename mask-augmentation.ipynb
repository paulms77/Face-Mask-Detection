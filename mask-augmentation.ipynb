{
 "cells": [
  {
   "cell_type": "markdown",
   "id": "d340ab3f-2654-4467-be23-c2b97513bc2b",
   "metadata": {},
   "source": [
    "# 마스크 이미지 증강"
   ]
  },
  {
   "cell_type": "markdown",
   "id": "908999f7-3428-43b5-825b-4bea23e32f51",
   "metadata": {},
   "source": [
    "증강 프로세스\n",
    "\n",
    "1. 마스크를 찾용하지 않은 얼굴 이미지: 얼굴 인식 및 얼굴 이미지 추출\n",
    "2. 마스크를 착용한 이미지 생성: 추출한 얼굴에 마스크 이미지를 추가하여 마스크를 착용한 이미지 생성"
   ]
  },
  {
   "cell_type": "code",
   "execution_count": null,
   "id": "b7bfd665-9e78-4a36-bdc5-a5b71f2efcf6",
   "metadata": {},
   "outputs": [],
   "source": [
    "from google.colab import drive\n",
    "import os\n",
    "import gc\n",
    "import shutil\n",
    "import cv2\n",
    "import pandas as pd\n",
    "import numpy as np\n",
    "import matplotlib.pyplot as plt\n",
    "from tqdm.notebook import tqdm\n",
    "from PIL import Image\n",
    "\n",
    "import face_recognition"
   ]
  },
  {
   "cell_type": "code",
   "execution_count": null,
   "id": "63664713-2969-47b5-a5c1-1a15560d2dcf",
   "metadata": {},
   "outputs": [],
   "source": [
    "without_mask = '/content/drive/MyDrive/mask/combined_without_mask'\n",
    "\n",
    "without_mask_images = [os.path.join(without_mask, image) for image in os.listdir(without_mask)]"
   ]
  },
  {
   "cell_type": "code",
   "execution_count": null,
   "id": "a29a4306-967e-483d-821d-354bf09a2431",
   "metadata": {},
   "outputs": [],
   "source": [
    "len(without_mask_images)"
   ]
  },
  {
   "cell_type": "code",
   "execution_count": null,
   "id": "14c5bbb5-ed73-403e-be00-0f17dbb4ab5f",
   "metadata": {},
   "outputs": [],
   "source": [
    "face_split_path = '/content/drive/MyDrive/mask/combined_without_mask_face'\n",
    "if not os.path.exists(face_split_path):\n",
    "  os.makedirs(face_split_path)"
   ]
  },
  {
   "cell_type": "code",
   "execution_count": null,
   "id": "4ea2a105-3a0d-4ceb-b236-244d4beafefd",
   "metadata": {},
   "outputs": [],
   "source": [
    "for i in range(len(without_mask_images)):\n",
    "  image_path = without_mask_images[i]\n",
    "\n",
    "  image = cv2.imread(image_path)\n",
    "\n",
    "  # 이미지에서 사람 얼굴 bounding boxes 반환\n",
    "  face_locations = face_recognition.face_locations(image, model = 'hog')\n",
    "\n",
    "  # 얼굴 인식 여부 확인\n",
    "  found_face = False\n",
    "  for face_location in face_locations:\n",
    "    (y1, x2, y2, x1) = face_location\n",
    "\n",
    "    found_face = True # 얼굴이 있음\n",
    "\n",
    "  if found_face:\n",
    "\n",
    "    y1 = max(0, y1)\n",
    "    y2 = min(image.shape[0], y2)\n",
    "    x1 = max(0, x1)\n",
    "    x2 = min(image.shape[1], x2)\n",
    "\n",
    "    image = image[y1:y2, x1:x2]\n",
    "\n",
    "    if image.size == 0:\n",
    "      print(f'잘린 이미지가 비어있음: {image_path}')\n",
    "      continue\n",
    "\n",
    "    image_path, extension = os.path.splitext(image_path)\n",
    "    image_name = image_path.split('/')[-1]\n",
    "    without_mask_image_path = os.path.join('/content/drive/MyDrive/mask/combined_without_mask_face', image_name + extension)\n",
    "\n",
    "    cv2.imwrite(without_mask_image_path, image)\n",
    "\n",
    "    print('Saved', without_mask_image_path)\n",
    "\n",
    "  else:\n",
    "    print('얼굴 인식 못함.', image_path)"
   ]
  },
  {
   "cell_type": "code",
   "execution_count": null,
   "id": "3d37c28d-06f3-4fa0-9964-51f52cdb6c87",
   "metadata": {},
   "outputs": [],
   "source": [
    "white_mask_image = '/content/drive/MyDrive/mask/white-mask.png' # 흰색 마스크\n",
    "black_mask_image = '/content/drive/MyDrive/mask/black-mask.png' # 검정색 마스크\n",
    "blue_mask_image = '/content/drive/MyDrive/mask/blue-mask.png' # 파란색 마스크"
   ]
  },
  {
   "cell_type": "code",
   "execution_count": null,
   "id": "e0c780a6-8acd-4595-8db4-f2d39fd01da3",
   "metadata": {},
   "outputs": [],
   "source": [
    "def face_angle_recognition(chin_point, nose_point):\n",
    "\n",
    "  angle = np.arctan2(chin_point[1] - nose_point[1], chin_point[0] - nose_point[0])\n",
    "\n",
    "  return angle\n",
    "\n",
    "def mask_on_face(face_image, face_landmark, mask_image):\n",
    "\n",
    "  nose_bridge = face_landmark['nose_bridge']\n",
    "  chin = face_landmark['chin']\n",
    "\n",
    "  nose_point = nose_bridge[0] # 콧등 상단점\n",
    "  chin_point = chin[len(chin) // 2] # 턱 중간점\n",
    "\n",
    "  mask_width = chin[-1][0] - chin[0][0] # 마스크 너비\n",
    "  mask_height = chin_point[1] - nose_point[1] # 마스크 높이\n",
    "\n",
    "  angle = face_angle_recognition(chin_point, nose_point) # 얼굴 각도\n",
    "\n",
    "  mask_image = mask_image.resize((mask_width, mask_height)) # 마스크 크기 조정\n",
    "\n",
    "  mask_image_rotation = mask_image.rotate(angle, expand=True)\n",
    "\n",
    "  mask_center_x = (nose_point[0] + chin_point[0]) // 2\n",
    "  mask_center_y = (nose_point[1] + chin_point[1]) // 2\n",
    "\n",
    "  # point_x = nose_point[0] - (mask_width // 2)\n",
    "  # point_y = nose_point[1]\n",
    "\n",
    "  mask_w, mask_h = mask_image_rotation.size\n",
    "\n",
    "  point_x = mask_center_x - mask_w // 2\n",
    "  point_y = mask_center_y - mask_h // 2\n",
    "\n",
    "  face_image.paste(mask_image_rotation, (point_x, point_y), mask_image_rotation)\n",
    "\n",
    "  return face_image\n",
    "\n",
    "def create_mask(image_path, mask_path):\n",
    "\n",
    "  key_points = ('nose_bridge', 'chin')\n",
    "\n",
    "  # 얼굴 랜드마크 추출\n",
    "  load_image = face_recognition.load_image_file(image_path)\n",
    "  face_locations = face_recognition.face_locations(load_image, model = 'hog')\n",
    "  face_landmarks = face_recognition.face_landmarks(load_image, face_locations)\n",
    "\n",
    "  face_image = Image.fromarray(load_image)\n",
    "  mask_image = Image.open(mask_path)\n",
    "\n",
    "  found_face = False\n",
    "\n",
    "  for face_landmark in face_landmarks:\n",
    "\n",
    "    for point in key_points:\n",
    "\n",
    "      if point not in face_landmark:\n",
    "        continue\n",
    "\n",
    "    found_face = True\n",
    "\n",
    "    face_image = mask_on_face(face_image, face_landmark, mask_image)\n",
    "\n",
    "  if found_face:\n",
    "    image_path, extension = os.path.splitext(image_path)\n",
    "    image_name = image_path.split('/')[-1]\n",
    "    print(image_name)\n",
    "    try:\n",
    "      with_mask_image_path = os.path.join('/content/drive/MyDrive/mask/combined_with_mask_face', image_name + extension)\n",
    "    except:\n",
    "      image_name = 'without_mask_' + image_name\n",
    "      with_mask_image_path = os.path.join('/content/drive/MyDrive/mask/combined_with_mask_face', image_name + extension)\n",
    "\n",
    "    # face_image = np.array(face_image)\n",
    "    # cv2.imwrite(with_mask_image_path, face_image)\n",
    "\n",
    "    face_image.save(with_mask_image_path)\n",
    "\n",
    "  else:\n",
    "    print(f'얼굴 인식 못함. {image_path}')"
   ]
  },
  {
   "cell_type": "code",
   "execution_count": null,
   "id": "6315bb25-2fb0-499b-af4e-6d4512d20479",
   "metadata": {},
   "outputs": [],
   "source": [
    "without_mask_face = '/content/drive/MyDrive/mask/combined_without_mask_face'\n",
    "without_mask_face_images = [os.path.join(without_mask_face, image) for image in os.listdir(without_mask_face)]\n",
    "len(without_mask_face_images)"
   ]
  },
  {
   "cell_type": "code",
   "execution_count": null,
   "id": "f973bd31-2dfa-4b5a-bb62-294fc2fcec56",
   "metadata": {},
   "outputs": [],
   "source": [
    "face_split_path = '/content/drive/MyDrive/mask/combined_with_mask_face'\n",
    "if not os.path.exists(face_split_path):\n",
    "  os.makedirs(face_split_path)\n",
    "else:\n",
    "  print('exist.')"
   ]
  },
  {
   "cell_type": "code",
   "execution_count": null,
   "id": "725a2f51-d1b5-4e6a-b453-24201e2a20b2",
   "metadata": {},
   "outputs": [],
   "source": [
    "for i in range(len(without_mask_face_images)):\n",
    "  if i < 796:\n",
    "    create_mask(without_mask_face_images[i], white_mask_image)\n",
    "\n",
    "  elif i < 1592:\n",
    "    create_mask(without_mask_face_images[i], black_mask_image)\n",
    "\n",
    "  else:\n",
    "    create_mask(without_mask_face_images[i], blue_mask_image)"
   ]
  },
  {
   "cell_type": "code",
   "execution_count": null,
   "id": "32f777ce-e0e8-4962-ba94-afe705290203",
   "metadata": {},
   "outputs": [],
   "source": [
    "def face_angle_recognition(chin_point, upper_lip_point):\n",
    "\n",
    "  angle = np.arctan2(chin_point[1] - upper_lip_point[1], chin_point[0] - upper_lip_point[0])\n",
    "\n",
    "  return angle\n",
    "\n",
    "def imp_mask_on_face(face_image, face_landmark, mask_image):\n",
    "\n",
    "  mouth_top = face_landmark['top_lip']\n",
    "  chin = face_landmark['chin']\n",
    "\n",
    "  mouth_top_point = mouth_top[0] # 입술 상단점\n",
    "  chin_point = chin[len(chin) // 2] # 턱 중간점\n",
    "\n",
    "  mask_width = chin[-1][0] - chin[0][0] # 마스크 너비\n",
    "  mask_height = chin_point[1] - mouth_top_point[1] # 마스크 높이\n",
    "\n",
    "  angle = face_angle_recognition(chin_point, mouth_top_point) # 얼굴 각도\n",
    "\n",
    "  mask_image = mask_image.resize((mask_width, mask_height)) # 마스크 크기 조정\n",
    "\n",
    "  mask_image_rotation = mask_image.rotate(angle, expand=True)\n",
    "\n",
    "  mask_center_x = (mouth_top_point[0] + chin_point[0]) // 2\n",
    "  mask_center_y = (mouth_top_point[1] + chin_point[1]) // 2\n",
    "\n",
    "  # point_x = mask_center_x - (mask_width // 2)\n",
    "  # point_y = mouth_top_point[1]\n",
    "\n",
    "  mask_w, mask_h = mask_image_rotation.size\n",
    "\n",
    "  point_x = mask_center_x - mask_w // 2\n",
    "  point_y = mask_center_y - mask_h // 2\n",
    "\n",
    "  face_image.paste(mask_image_rotation, (point_x, point_y), mask_image_rotation)\n",
    "\n",
    "  return face_image\n",
    "\n",
    "def create_imp_mask(image_path, mask_path):\n",
    "\n",
    "  key_points = ('nose_bridge', 'chin')\n",
    "\n",
    "  # 얼굴 랜드마크 추출\n",
    "  load_image = face_recognition.load_image_file(image_path)\n",
    "  face_locations = face_recognition.face_locations(load_image, model = 'hog')\n",
    "  face_landmarks = face_recognition.face_landmarks(load_image, face_locations)\n",
    "\n",
    "  face_image = Image.fromarray(load_image)\n",
    "  mask_image = Image.open(mask_path)\n",
    "\n",
    "  found_face = False\n",
    "\n",
    "  for face_landmark in face_landmarks:\n",
    "\n",
    "    for point in key_points:\n",
    "\n",
    "      if point not in face_landmark:\n",
    "        continue\n",
    "\n",
    "    found_face = True\n",
    "\n",
    "    face_image = imp_mask_on_face(face_image, face_landmark, mask_image)\n",
    "\n",
    "  if found_face:\n",
    "    image_path, extension = os.path.splitext(image_path)\n",
    "    image_name = image_path.split('/')[-1]\n",
    "    print(image_name)\n",
    "    try:\n",
    "      with_mask_image_path = os.path.join('/content/drive/MyDrive/mask/combined_half_mask_face', image_name + extension)\n",
    "    except:\n",
    "      image_name = 'without_mask_' + image_name\n",
    "      with_mask_image_path = os.path.join('/content/drive/MyDrive/mask/combined_half_mask_face', image_name + extension)\n",
    "\n",
    "    # face_image = np.array(face_image)\n",
    "    # cv2.imwrite(with_mask_image_path, face_image)\n",
    "\n",
    "    face_image.save(with_mask_image_path)\n",
    "\n",
    "  else:\n",
    "    print(f'얼굴 인식 못함. {image_path}')"
   ]
  },
  {
   "cell_type": "code",
   "execution_count": null,
   "id": "e1685aa8-7d94-4044-9887-5a9838dfaa20",
   "metadata": {},
   "outputs": [],
   "source": [
    "without_mask_face = '/content/drive/MyDrive/mask/combined_without_mask_face'\n",
    "without_mask_face_images = [os.path.join(without_mask_face, image) for image in os.listdir(without_mask_face)]\n",
    "len(without_mask_face_images)"
   ]
  },
  {
   "cell_type": "code",
   "execution_count": null,
   "id": "9fbc4ff9-c747-4536-bba9-87b5faf2d878",
   "metadata": {},
   "outputs": [],
   "source": [
    "face_split_path = '/content/drive/MyDrive/mask/combined_half_mask_face'\n",
    "if not os.path.exists(face_split_path):\n",
    "  os.makedirs(face_split_path)\n",
    "else:\n",
    "  print('exist.')"
   ]
  },
  {
   "cell_type": "code",
   "execution_count": null,
   "id": "09d43cc0-ec9a-41a1-b83b-cd6a61f13288",
   "metadata": {},
   "outputs": [],
   "source": [
    "for i in range(len(without_mask_face_images)):\n",
    "  if i < 796:\n",
    "    create_imp_mask(without_mask_face_images[i], white_mask_image)\n",
    "\n",
    "  elif i < 1592:\n",
    "    create_imp_mask(without_mask_face_images[i], black_mask_image)\n",
    "\n",
    "  else:\n",
    "    create_imp_mask(without_mask_face_images[i], blue_mask_image)"
   ]
  },
  {
   "cell_type": "markdown",
   "id": "25cd13a3-4ea4-4413-8110-9889f4788f8f",
   "metadata": {},
   "source": [
    "# 증강 이미지 병합"
   ]
  },
  {
   "cell_type": "code",
   "execution_count": null,
   "id": "555d0a56-ac4d-457d-aace-87e75e79cf00",
   "metadata": {},
   "outputs": [],
   "source": [
    "source_folder_mask = '/content/drive/MyDrive/mask/combined_with_mask'\n",
    "source_folder_face_mask = '/content/drive/MyDrive/mask/combined_with_mask_face'\n",
    "\n",
    "for filename in os.listdir(source_folder_face_mask):\n",
    "  source_file = os.path.join(source_folder_face_mask, filename)\n",
    "\n",
    "  filename, file_extension = os.path.splitext(filename)\n",
    "\n",
    "  aug_filename = f'{filename}_aug{file_extension}'\n",
    "  # aug_filename = filename.split('.')[0] + '_aug' + '.' + filename.split('.')[1]\n",
    "\n",
    "  target_file = os.path.join(source_folder_mask, aug_filename)\n",
    "\n",
    "  shutil.copy(source_file, target_file)"
   ]
  },
  {
   "cell_type": "code",
   "execution_count": null,
   "id": "02f72890-6f04-4a5c-9352-54c4d79545d0",
   "metadata": {},
   "outputs": [],
   "source": [
    "with_mask = '/content/drive/MyDrive/mask/combined_with_mask'\n",
    "with_mask_images = [os.path.join(with_mask, image) for image in os.listdir(with_mask) if '_aug' in image]\n",
    "len(with_mask_images)"
   ]
  },
  {
   "cell_type": "code",
   "execution_count": null,
   "id": "dc0a8c80-8210-45a3-addf-8baf2c00e3d9",
   "metadata": {},
   "outputs": [],
   "source": [
    "with_mask = '/content/drive/MyDrive/mask/combined_with_mask'\n",
    "with_mask_images = [os.path.join(with_mask, image) for image in os.listdir(with_mask)]\n",
    "len(with_mask_images)"
   ]
  },
  {
   "cell_type": "code",
   "execution_count": null,
   "id": "959ed12d-cc2c-4421-8e4e-0e3238891b09",
   "metadata": {},
   "outputs": [],
   "source": [
    "source_folder_without_mask = '/content/drive/MyDrive/mask/combined_without_mask'\n",
    "source_folder_without_face_mask = '/content/drive/MyDrive/mask/combined_without_mask_face'\n",
    "\n",
    "for filename in os.listdir(source_folder_without_face_mask):\n",
    "  source_file = os.path.join(source_folder_without_face_mask, filename)\n",
    "\n",
    "  filename, file_extension = os.path.splitext(filename)\n",
    "\n",
    "  aug_filename = f'{filename}_aug{file_extension}'\n",
    "  # aug_filename = filename.split('.')[0] + '_aug' + '.' + filename.split('.')[1]\n",
    "\n",
    "  target_file = os.path.join(source_folder_without_mask, aug_filename)\n",
    "\n",
    "  shutil.copy(source_file, target_file)"
   ]
  },
  {
   "cell_type": "code",
   "execution_count": null,
   "id": "f5c0f9c9-7cbe-49ee-a924-07db4ad83a70",
   "metadata": {},
   "outputs": [],
   "source": [
    "without_mask = '/content/drive/MyDrive/mask/combined_without_mask'\n",
    "without_mask_images = [os.path.join(without_mask, image) for image in os.listdir(without_mask) if '_aug' in image]\n",
    "len(without_mask_images)"
   ]
  },
  {
   "cell_type": "code",
   "execution_count": null,
   "id": "3b2e4c5c-750b-4e50-a698-8795510b64d0",
   "metadata": {},
   "outputs": [],
   "source": [
    "without_mask = '/content/drive/MyDrive/mask/combined_without_mask'\n",
    "without_mask_images = [os.path.join(without_mask, image) for image in os.listdir(without_mask)]\n",
    "len(without_mask_images)"
   ]
  },
  {
   "cell_type": "code",
   "execution_count": null,
   "id": "67851b07-6d40-4e59-991e-1233c3239660",
   "metadata": {},
   "outputs": [],
   "source": [
    "source_folder_mask = '/content/drive/MyDrive/mask/combined_half_mask'\n",
    "source_folder_face_mask = '/content/drive/MyDrive/mask/combined_half_mask_face'\n",
    "\n",
    "for filename in os.listdir(source_folder_face_mask):\n",
    "  source_file = os.path.join(source_folder_face_mask, filename)\n",
    "\n",
    "  aug_filename = filename.split('.')[0] + '_aug' + '.' + filename.split('.')[1]\n",
    "  target_file = os.path.join(source_folder_mask, aug_filename)\n",
    "\n",
    "  shutil.copy(source_file, target_file)"
   ]
  },
  {
   "cell_type": "code",
   "execution_count": null,
   "id": "14dfaec6-d9ef-406f-8f65-9bb5efb17d8a",
   "metadata": {},
   "outputs": [],
   "source": [
    "without_mask = '/content/drive/MyDrive/mask/combined_half_mask'\n",
    "without_mask_images = [os.path.join(without_mask, image) for image in os.listdir(without_mask) if '_aug' in image]\n",
    "len(without_mask_images)"
   ]
  },
  {
   "cell_type": "code",
   "execution_count": null,
   "id": "cf82adfe-eef3-4ee0-b38c-55a42eaa6edf",
   "metadata": {},
   "outputs": [],
   "source": [
    "without_mask = '/content/drive/MyDrive/mask/combined_half_mask'\n",
    "without_mask_images = [os.path.join(without_mask, image) for image in os.listdir(without_mask)]\n",
    "len(without_mask_images)"
   ]
  },
  {
   "cell_type": "code",
   "execution_count": null,
   "id": "797d3ee4-22dc-4622-93cb-1c7dc4b81d5a",
   "metadata": {},
   "outputs": [],
   "source": [
    "# 부적절한 마스크 착용 + 마스크 미착용 병합\n",
    "source_folder_without_mask = '/content/drive/MyDrive/mask/combined_without_mask'\n",
    "combined_half_mask = '/content/drive/MyDrive/mask/combined_half_mask'\n",
    "\n",
    "for filename in os.listdir(combined_half_mask):\n",
    "  source_file = os.path.join(combined_half_mask, filename)\n",
    "\n",
    "  filename, file_extension = os.path.splitext(filename)\n",
    "\n",
    "  imp_filename = f'{filename}_imp{file_extension}'\n",
    "  # imp_filename = filename.split('.')[0] + '_imp' + '.' + filename.split('.')[1]\n",
    "\n",
    "  target_file = os.path.join(source_folder_without_mask, imp_filename)\n",
    "\n",
    "  shutil.copy(source_file, target_file)"
   ]
  }
 ],
 "metadata": {
  "kernelspec": {
   "display_name": "Python 3 (ipykernel)",
   "language": "python",
   "name": "python3"
  },
  "language_info": {
   "codemirror_mode": {
    "name": "ipython",
    "version": 3
   },
   "file_extension": ".py",
   "mimetype": "text/x-python",
   "name": "python",
   "nbconvert_exporter": "python",
   "pygments_lexer": "ipython3",
   "version": "3.9.13"
  }
 },
 "nbformat": 4,
 "nbformat_minor": 5
}
